{
 "cells": [
  {
   "cell_type": "markdown",
   "metadata": {},
   "source": [
    "# Computational Theory\n",
    "### By Joshua Uzell"
   ]
  },
  {
   "cell_type": "markdown",
   "metadata": {},
   "source": [
    "## Introduction\n",
    "***"
   ]
  },
  {
   "cell_type": "markdown",
   "metadata": {},
   "source": [
    "This notebook will cover the numbers game that is included in the T.V show Countdown."
   ]
  },
  {
   "cell_type": "markdown",
   "metadata": {},
   "source": [
    "First, we'll give an explaination of the numbers game in Countdown, explaining the different rules and complexities of how it works. Then we'll try solving the numbers game using a python function called solve_numbers. "
   ]
  },
  {
   "cell_type": "markdown",
   "metadata": {},
   "source": [
    "We'll explain our thought process for how to work out the problem. Then we'll go through various solutions, starting with a rough solution first, then gradually working towards a more efficient solution. \n",
    "\t\t\n",
    "As well as this we may take a look at using Reverse Polish notation for one of our solutions."
   ]
  },
  {
   "cell_type": "markdown",
   "metadata": {},
   "source": [
    "## Summury of Countdown\n",
    "***"
   ]
  },
  {
   "cell_type": "markdown",
   "metadata": {},
   "source": [
    "In the T.V show Countdown, there is a numbers round where players perform arithmetic operations on six big or small random numbers in order to get to a randomly generated target number that is between and includes 101 and 999 in the least amount of calculations as possible.  "
   ]
  },
  {
   "cell_type": "markdown",
   "metadata": {},
   "source": [
    "First at the start of the round, players are given 6 random numbers. Each number can be either big or small. \n",
    "\n",
    "Big numbers include 25, 50, 75, 100. No duplicates are permitted.\n",
    "Small numbers include 1 to 10 with each number getting a duplicate."
   ]
  },
  {
   "cell_type": "markdown",
   "metadata": {},
   "source": [
    "In the T.V show, the player chooses how many big or small numbers they want up to 6 numbers.\n",
    "\n",
    "For our version, we will simply this process by just having our list of six numbers contain all 4 large numbers and 2 small numbers."
   ]
  },
  {
   "cell_type": "markdown",
   "metadata": {},
   "source": [
    "Upon receiving the 6 numbers, each number can only be used once for a given operation. However the result of a calculation can be used as many times as needed for future operations. If there is a copy of a number in the list, then each copy can be used once."
   ]
  },
  {
   "cell_type": "markdown",
   "metadata": {},
   "source": [
    "## References"
   ]
  },
  {
   "cell_type": "markdown",
   "metadata": {},
   "source": [
    "[1]"
   ]
  },
  {
   "cell_type": "markdown",
   "metadata": {},
   "source": [
    "***\n",
    "## End of Notebook"
   ]
  }
 ],
 "metadata": {
  "language_info": {
   "name": "python"
  }
 },
 "nbformat": 4,
 "nbformat_minor": 2
}
